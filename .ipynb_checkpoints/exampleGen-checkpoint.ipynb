{
 "cells": [
  {
   "cell_type": "code",
   "execution_count": 2,
   "id": "73b3fcf8-dab8-4bd2-9ddf-406fbb587168",
   "metadata": {},
   "outputs": [],
   "source": [
    "import os"
   ]
  },
  {
   "cell_type": "code",
   "execution_count": 3,
   "id": "8fe2fde5-7840-4c9b-af56-da8e054815dc",
   "metadata": {},
   "outputs": [
    {
     "data": {
      "text/plain": [
       "'D:\\\\Win_Pred_Analytics_Revised'"
      ]
     },
     "execution_count": 3,
     "metadata": {},
     "output_type": "execute_result"
    }
   ],
   "source": [
    "os.getcwd()"
   ]
  },
  {
   "cell_type": "code",
   "execution_count": 7,
   "id": "8a85aca6-6ab4-49df-8459-ae64143d9c04",
   "metadata": {},
   "outputs": [],
   "source": [
    "csv_file_path = os.path.join(os.getcwd(),\"data\", \"data.csv\")"
   ]
  },
  {
   "cell_type": "code",
   "execution_count": 8,
   "id": "1dd7f087-1c1d-4641-8786-76dd3136f759",
   "metadata": {},
   "outputs": [
    {
     "data": {
      "text/plain": [
       "True"
      ]
     },
     "execution_count": 8,
     "metadata": {},
     "output_type": "execute_result"
    }
   ],
   "source": [
    "os.path.exists(csv_file_path)"
   ]
  },
  {
   "cell_type": "code",
   "execution_count": 9,
   "id": "8d387bc4-8b41-438f-853a-10f929b8c76c",
   "metadata": {},
   "outputs": [
    {
     "data": {
      "text/plain": [
       "'D:\\\\Win_Pred_Analytics_Revised\\\\data\\\\data.csv'"
      ]
     },
     "execution_count": 9,
     "metadata": {},
     "output_type": "execute_result"
    }
   ],
   "source": [
    "csv_file_path"
   ]
  },
  {
   "cell_type": "code",
   "execution_count": 10,
   "id": "cce8eb21-405c-421f-b5ea-268c79f39228",
   "metadata": {},
   "outputs": [],
   "source": [
    "import csv"
   ]
  },
  {
   "cell_type": "code",
   "execution_count": 12,
   "id": "1a0df8cc-d430-4494-869f-411333d377d2",
   "metadata": {},
   "outputs": [],
   "source": [
    "import tensorflow as tf"
   ]
  },
  {
   "cell_type": "code",
   "execution_count": 13,
   "id": "e4e99fb2-fb73-41c8-ad41-6cc07e00c78e",
   "metadata": {},
   "outputs": [],
   "source": [
    "tf_record_dir = os.path.join(os.getcwd(), \"tf_record_files\")"
   ]
  },
  {
   "cell_type": "code",
   "execution_count": 14,
   "id": "a09983d7-7fab-47c9-b275-f73ceb2fb3e5",
   "metadata": {},
   "outputs": [],
   "source": [
    "os.makedirs(tf_record_dir, exist_ok = True)"
   ]
  },
  {
   "cell_type": "code",
   "execution_count": 15,
   "id": "b3d41b67-4cdf-4fb9-8c14-eecdd164b03d",
   "metadata": {},
   "outputs": [],
   "source": [
    "tf_record_file_name = os.path.join(tf_record_dir, \"data.tfrecord\")"
   ]
  },
  {
   "cell_type": "code",
   "execution_count": 16,
   "id": "c4f044cb-8109-4808-9e09-4a8d7b19dab1",
   "metadata": {},
   "outputs": [],
   "source": [
    "tf_record_writer = tf.io.TFRecordWriter(tf_record_file_name)"
   ]
  },
  {
   "cell_type": "code",
   "execution_count": null,
   "id": "98725e7e-8423-4790-b9c3-1a45f87a14e1",
   "metadata": {},
   "outputs": [],
   "source": []
  },
  {
   "cell_type": "code",
   "execution_count": 33,
   "id": "66d0e258-4771-4dd6-823b-bd2d07a6cdaa",
   "metadata": {},
   "outputs": [],
   "source": [
    "def _bytes_features(value):\n",
    "    value = value.encode()\n",
    "    return tf.train.Feature(bytes_list = tf.train.BytesList(value=[value]))"
   ]
  },
  {
   "cell_type": "code",
   "execution_count": 34,
   "id": "7f268be2-67b3-48d5-ac7b-9e4b55afa128",
   "metadata": {},
   "outputs": [],
   "source": [
    "def _int64_feature(value):\n",
    "    return tf.train.Feature(int64_list = tf.train.Int64List(value=[value]))"
   ]
  },
  {
   "cell_type": "code",
   "execution_count": 35,
   "id": "8de03804-2246-49f1-b3e1-4e67410c2512",
   "metadata": {},
   "outputs": [],
   "source": [
    "def _float_feature(value):\n",
    "    return tf.train.Feature(float_list = tf.train.FloatList(value=[value]))"
   ]
  },
  {
   "cell_type": "code",
   "execution_count": 45,
   "id": "68158420-313e-48ea-a9ef-2b4580311a15",
   "metadata": {},
   "outputs": [
    {
     "data": {
      "text/plain": [
       "bytes_list {\n",
       "  value: \"upendra\"\n",
       "}"
      ]
     },
     "execution_count": 45,
     "metadata": {},
     "output_type": "execute_result"
    }
   ],
   "source": [
    "_bytes_features(\"upendra\")"
   ]
  },
  {
   "cell_type": "code",
   "execution_count": 46,
   "id": "4f65b274-9e2b-41e6-b5a9-acf273a83cab",
   "metadata": {},
   "outputs": [
    {
     "data": {
      "text/plain": [
       "int64_list {\n",
       "  value: 34\n",
       "}"
      ]
     },
     "execution_count": 46,
     "metadata": {},
     "output_type": "execute_result"
    }
   ],
   "source": [
    "_int64_feature(34)"
   ]
  },
  {
   "cell_type": "code",
   "execution_count": 47,
   "id": "12b5f203-9006-4426-9af6-10bbd54bcea8",
   "metadata": {},
   "outputs": [
    {
     "data": {
      "text/plain": [
       "float_list {\n",
       "  value: 3.0\n",
       "}"
      ]
     },
     "execution_count": 47,
     "metadata": {},
     "output_type": "execute_result"
    }
   ],
   "source": [
    "_float_feature(value=3.0)"
   ]
  },
  {
   "cell_type": "code",
   "execution_count": 56,
   "id": "33bea217-8c85-4be2-a378-325514b96026",
   "metadata": {},
   "outputs": [
    {
     "data": {
      "text/plain": [
       "features {\n",
       "  feature {\n",
       "    key: \"age\"\n",
       "    value {\n",
       "      int64_list {\n",
       "        value: 23\n",
       "      }\n",
       "    }\n",
       "  }\n",
       "  feature {\n",
       "    key: \"name\"\n",
       "    value {\n",
       "      bytes_list {\n",
       "        value: \"upendra\"\n",
       "      }\n",
       "    }\n",
       "  }\n",
       "}"
      ]
     },
     "execution_count": 56,
     "metadata": {},
     "output_type": "execute_result"
    }
   ],
   "source": [
    "row_example = tf.train.Example(features= tf.train.Features(feature= \n",
    "                                             \n",
    "                                             {\n",
    "    \n",
    "                                                       \"name\":_bytes_features(\"upendra\"),\n",
    "                                                       \"age\":_int64_feature(23) \n",
    "                                                      \n",
    "                                                      }\n",
    "                                            \n",
    "                                            ))\n",
    "\n",
    "row_example"
   ]
  },
  {
   "cell_type": "code",
   "execution_count": 57,
   "id": "a2ee9680-b43c-43a2-ad33-fa803a21a2c6",
   "metadata": {},
   "outputs": [
    {
     "data": {
      "text/plain": [
       "b'\\n#\\n\\x0c\\n\\x03age\\x12\\x05\\x1a\\x03\\n\\x01\\x17\\n\\x13\\n\\x04name\\x12\\x0b\\n\\t\\n\\x07upendra'"
      ]
     },
     "execution_count": 57,
     "metadata": {},
     "output_type": "execute_result"
    }
   ],
   "source": [
    "row_example.SerializeToString()"
   ]
  },
  {
   "cell_type": "code",
   "execution_count": 52,
   "id": "63ebb2ee-41c6-43f6-b40a-08c396507ff9",
   "metadata": {},
   "outputs": [],
   "source": [
    "with open(csv_file_path) as csv_file:\n",
    "    reader = csv.DictReader(csv_file, delimiter=\",\",quotechar='\"')\n",
    "    for row in reader:\n",
    "        feature = {\n",
    "            \"Client_Category\": _bytes_features(row[\"Client_Category\"]),\n",
    "            \"Solution_Type\": _bytes_features(row[\"Solution_Type\"])\n",
    "        }\n",
    "        features = tf.train.Features(feature=feature)\n",
    "        example = tf.train.Example(features=features)\n",
    "        tf_record_writer.write(example.SerializeToString())\n",
    "        \n",
    "tf_record_writer.close()        "
   ]
  },
  {
   "cell_type": "code",
   "execution_count": null,
   "id": "d0a73da1-7f90-4bfe-91bb-8e0bbf5cd255",
   "metadata": {},
   "outputs": [],
   "source": [
    "\n",
    "##complete way to define a example that is a single row\n",
    "\n",
    "tf.train.Example(features= tf.train.Features(feature= {\"name\":tf.train.Feature(bytes_list=_bytes_features(\"avnish\")),\n",
    "                                                      \"age\":tf.train.Feature(int64_list = _int64_feature(23))\n",
    "                                                      \n",
    "                                                      }))"
   ]
  },
  {
   "cell_type": "code",
   "execution_count": null,
   "id": "2a7186ab-3a1a-4011-aff8-8b5dbc8bbf6d",
   "metadata": {},
   "outputs": [],
   "source": []
  },
  {
   "cell_type": "code",
   "execution_count": 58,
   "id": "5e26eed8-68c8-41b4-9ff1-2cbdb1d859a2",
   "metadata": {},
   "outputs": [],
   "source": [
    "from tfx.components import CsvExampleGen"
   ]
  },
  {
   "cell_type": "code",
   "execution_count": null,
   "id": "92169b88-63d6-4472-906d-b41ac4931ddb",
   "metadata": {},
   "outputs": [],
   "source": []
  },
  {
   "cell_type": "code",
   "execution_count": null,
   "id": "7de3e336-2972-4b50-8d41-39fb089c674b",
   "metadata": {},
   "outputs": [],
   "source": []
  },
  {
   "cell_type": "code",
   "execution_count": null,
   "id": "1bce3c9a-3c29-4df9-aa0d-c8ab54d5a4f9",
   "metadata": {},
   "outputs": [],
   "source": []
  },
  {
   "cell_type": "code",
   "execution_count": null,
   "id": "3464d0b2-ad7f-4967-95a8-fb25c3346981",
   "metadata": {},
   "outputs": [],
   "source": []
  },
  {
   "cell_type": "code",
   "execution_count": null,
   "id": "4567e46f-7ab3-46e0-9c93-a191ea159515",
   "metadata": {},
   "outputs": [],
   "source": []
  },
  {
   "cell_type": "code",
   "execution_count": null,
   "id": "4a12f003-76c8-4464-aac3-3bc5e5ed2aed",
   "metadata": {},
   "outputs": [],
   "source": []
  },
  {
   "cell_type": "code",
   "execution_count": null,
   "id": "33e7e530-e84d-49c1-b9d7-3808e38e036f",
   "metadata": {},
   "outputs": [],
   "source": []
  },
  {
   "cell_type": "code",
   "execution_count": null,
   "id": "be44ca14-c3c6-46e9-8c6c-28030da2afb3",
   "metadata": {},
   "outputs": [],
   "source": []
  },
  {
   "cell_type": "code",
   "execution_count": null,
   "id": "c996a7fb-9241-445b-9d4d-e43c3c46f279",
   "metadata": {},
   "outputs": [],
   "source": []
  },
  {
   "cell_type": "code",
   "execution_count": null,
   "id": "d6b57e92-34ac-472b-9ba6-bd98c2bc0bcf",
   "metadata": {},
   "outputs": [],
   "source": []
  }
 ],
 "metadata": {
  "kernelspec": {
   "display_name": "Python 3 (ipykernel)",
   "language": "python",
   "name": "python3"
  },
  "language_info": {
   "codemirror_mode": {
    "name": "ipython",
    "version": 3
   },
   "file_extension": ".py",
   "mimetype": "text/x-python",
   "name": "python",
   "nbconvert_exporter": "python",
   "pygments_lexer": "ipython3",
   "version": "3.7.13"
  }
 },
 "nbformat": 4,
 "nbformat_minor": 5
}
